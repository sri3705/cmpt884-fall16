{
 "cells": [
  {
   "cell_type": "markdown",
   "metadata": {},
   "source": [
    "# Table of Contents\n",
    "* [Final Project: Human Computation + X](#Final-Project:-Human-Computation-+-X)\n",
    "\t* [Project Overview](#Project-Overview)\n",
    "\t* [Types of Projects](#Types-of-Projects)\n",
    "\t\t* [1. Survey](#1.-Survey)\n",
    "\t\t* [2. Research](#2.-Research)\n",
    "\t\t* [3. Programming](#3.-Programming)\n",
    "\t* [Final Note](#Final-Note)\n"
   ]
  },
  {
   "cell_type": "markdown",
   "metadata": {},
   "source": [
    "# Final Project: Human Computation + X"
   ]
  },
  {
   "cell_type": "markdown",
   "metadata": {},
   "source": [
    "## Project Overview"
   ]
  },
  {
   "cell_type": "markdown",
   "metadata": {},
   "source": [
    "In this graduate seminar, we are mainly focused on human-in-the-loop data management, i.e., human computation + data management. But this is only a small part of human-computation research. There are a lot of other work on Human Computation + X (= Computer Vision, Artificial Intelligence, Natural Language Processing, Mobile Computing, Information Retrieval, Graphics, etc.). In this project, you are free to choose any X you like, even including X = Data Management. \n",
    "\n",
    "**Advice on the choice of X.**\n",
    "Since you only have  ~2 months for the project, it would be challenging to choose a topic that you are not very familiar with. To be realistic, please discuss with other team members and make sure to choose a topic that the team has the needed expertise.\n",
    "\n",
    "Due to your diverse backgrounds and skills, I designed three types of projects: (1) Survey, (2) Research, and (3) Programming. Please choose **ONE** from them, and follow the following steps to do the project: \n",
    "\n",
    "1. Form a team of **1-3** persons\n",
    "2. Pick up a project type, decide what X is, and submit an initial plan\n",
    "3. Present your project in the poster session\n",
    "4. Submit your paper \n"
   ]
  },
  {
   "cell_type": "markdown",
   "metadata": {},
   "source": [
    "The table below summarized the deadline for each phase:  "
   ]
  },
  {
   "cell_type": "markdown",
   "metadata": {},
   "source": [
    "\n",
    "\n",
    "ID |   <center>What</center>  |    <center>When</center>  |  <center>Where</center>\n",
    "-- | ------------------------ | ------------------------- | ------------------\n",
    "1  |  Form a Team             |  Sunday 10/23 at 11:59pm  |  Create your team in [CourSys](https://courses.cs.sfu.ca/2016fa-cmpt-884-g1/groups/)\n",
    "2  |  Initial Plan             |  Friday 11/04 at 11:59pm  |  Submit the filled form to the CourSys activity [Initial Plan](https://courses.cs.sfu.ca/2016fa-cmpt-884-g1/+plan/) \n",
    "3  |  Poster Session             |  Wednesday 12/07 at 08:00am <br / > Wednesday 12/07 at 03:00pm | Submit your poster to the CourSys activity [Poster](https://courses.cs.sfu.ca/2016fa-cmpt-884-g1/+poster/) <br />Present your poster at T9204 W&E\n",
    "4  |  Paper            |  Monday  12/12 at 11:59pm | Submit the paper to the CourSys activity [Paper](https://courses.cs.sfu.ca/2016fa-cmpt-884-g1/+paper/)\n",
    "                                                              \n",
    "\n"
   ]
  },
  {
   "cell_type": "markdown",
   "metadata": {},
   "source": [
    "## Types of Projects"
   ]
  },
  {
   "cell_type": "markdown",
   "metadata": {},
   "source": [
    "Please choose one project type, and follow the corresponding instruction to do the project. "
   ]
  },
  {
   "cell_type": "markdown",
   "metadata": {},
   "source": [
    "### 1. Survey"
   ]
  },
  {
   "cell_type": "markdown",
   "metadata": {},
   "source": [
    "If you choose to do a survey on \"Human Computation + X\", here are a list of steps you need to do: \n",
    "\n",
    "1. **Collecting Related Papers.** Please follow the instruction in this [paper (Sec 3)](https://github.com/sfu-db/cmpt884-fall16/blob/master/Papers/How%20to%20Read%20a%20Paper.pdf) to find related papers on the topic.  \n",
    "2. **Reading Papers.** You should read at least 20-40 papers in order to write a good survey paper. After reading the papers, please *make sure* that you are completely aware of the main research themes, trends, challenges/issues, and results of the topic.\n",
    "3. **Designing a Classification Criteria.** <font color=\"red\">Determine the classification of the existing literature</font>, and draw a diagram for that. You can get an idea about what the diagram looks like from these examples ([Fig 1](https://github.com/sfu-db/cmpt884-fall16/blob/master/Papers/A_Survey_of_Crowdsourcing_Systems_2011.pdf), [Fig 1](https://github.com/sfu-db/cmpt884-fall16/blob/master/Papers/tkde16-crowdsurvey.pdf), [Fig 3](https://github.com/sfu-db/cmpt884-fall16/blob/master/Papers/QuinnAndBederson.pdf), [Fig 1](https://github.com/sfu-db/cmpt884-fall16/blob/master/Papers/general_purpose_crowdsourcing.pdf), [Fig 1](https://github.com/sfu-db/cmpt884-fall16/blob/master/Papers/crowd_challenges.pdf)). \n",
    "4. **Identifying Pros and Cons.** Map the collected papers to their corresponding classes. Compare different classes, and identify the pros/cons of each class. \n",
    "5. **Predicting Future Trends.** Think about what problems on this topic should be paid more attention in the future, and why they are challenging? \n",
    "6. **Writing the Survey Paper.** Here is a suggested outline of the survey paper. You don't have to use it, but the paper has to include the materials mentioned in Steps 3-5.\n",
    "    * Abstract\n",
    "    * Introduction\n",
    "    * Background and Problem Statement\n",
    "    * Classification Criteria\n",
    "    * Presentation of Class 1, Class 2, ...\n",
    "    * Comparisons of Classes (pron/cons)\n",
    "    * Emerging Trends\n",
    "    * Conclusion\n",
    "\n",
    "    \n",
    "    \n"
   ]
  },
  {
   "cell_type": "markdown",
   "metadata": {},
   "source": [
    "**Submission**\n",
    "\n",
    "* <u>Initial Plan</u>: Download the Initial Plan [form template](https://docs.google.com/document/d/1cHTsx2sMqFrFz6zpRYu09YaTHz9Vm6u052qShK6zuiQ/edit?usp=sharing), and submit the filled form to the CourSys activity Initial Plan. \n",
    "* <u>Poster Session</u>: Make a poster to present your paper. The poster session is scheduled at 10:00 am on Wednesday 12/07. Please upload your poster to the CourSys activity Poster before 08:00 am. \n",
    "* <u>Paper</u>:  Write the paper using the templates provided at https://www.acm.org/publications/proceedings-template for Word and LaTeX (version 2e). That is, the format of your paper should be like [this](https://www.acm.org/binaries/content/assets/publications/article-templates/sig-alternate-sample.pdf). The paper has to be <font color=\"red\"> at least 8 pages (excluding references)</font>. "
   ]
  },
  {
   "cell_type": "markdown",
   "metadata": {},
   "source": [
    "### 2. Research"
   ]
  },
  {
   "cell_type": "markdown",
   "metadata": {},
   "source": [
    "If you choose to do a research project on \"Human Computation + X\", here are a list of steps you need to do: \n",
    "\n",
    "1. **Problem.** Ask yourself what problems in the field of X cannot be well solved by machine-only techniques. Pick up one such problem, and think about how to leverage human computation to solve it.   \n",
    "2. **Related Work.** Get familiar with the state-of-the-art solutions to the problem as well as their limitations.\n",
    "3. **Key Insight.** Figure out the key insight in your solution. <font color=\"red\">The insight has to be original!</font> That is, nobody has applied the same insight to your problem.   \n",
    "4. **Solution.** Describe in detail how your solution works and why it works. \n",
    "5. **Experiments.** Do some experiments to evaluate the performance of your solution.  \n",
    "6. **Paper Writing.** Here is a suggested outline of the paper. You don't have to use it, but the paper has to include the materials mentioned in Steps 1-5.\n",
    "    * Abstract\n",
    "    * Introduction (Background, Existing Solutions, Your Contributions)\n",
    "    * Problem Statement\n",
    "    * Your Solution\n",
    "    * Experiments\n",
    "    * Conclusion\n",
    "\n",
    "**Submission**\n",
    "\n",
    "\n",
    "* <u>Initial Plan</u>: Download the Initial Plan [form template](https://docs.google.com/document/d/1zNxPEZJhfHGotAPDrsGi7oQM3jBpgOqVJQAHFGzSViE/edit?usp=sharing), and submit the filled form to the CourSys activity Initial Plan. \n",
    "* <u>Poster Session</u>: Make a poster to present your paper. The poster session is scheduled at 10:00 am on Wednesday 12/07. Please upload your poster to the CourSys activity Poster before 08:00 am. \n",
    "* <u>Paper</u>:  Write the paper using the templates provided at https://www.acm.org/publications/proceedings-template for Word and LaTeX (version 2e). That is, the format of your paper should be like [this](https://www.acm.org/binaries/content/assets/publications/article-templates/sig-alternate-sample.pdf). The paper has to be <font color=\"red\"> at least 4 pages (excluding references)</font>. \n"
   ]
  },
  {
   "cell_type": "markdown",
   "metadata": {},
   "source": [
    "### 3. Programming"
   ]
  },
  {
   "cell_type": "markdown",
   "metadata": {},
   "source": [
    "If you choose to do a programming project on \"Human Computation + X\", here are a list of steps you need to do.\n",
    "\n",
    "1. **Project Idea.** Come up with an idea for a crowdsourcing system. Note that the idea does not need to be new. For example, you can take the [10000 cents](http://www.tenthousandcents.com/) idea, and build a system that allows the user to upload an image and get its crowdsourced drawing. \n",
    "2. **System Architecture.** Think about what components the system needs to have and how to put them together. \n",
    "3. **Technical Challenges.** Identify the technical challenges to implement the system, and discuss how to address them.  \n",
    "4. **Demonstration.** Determine how you are going to demonstrate the system to impress others.  \n",
    "5. **Paper Writing.** Here is a suggested outline of the paper. You don't have to use it, but the paper has to include the materials mentioned in Steps 2-4.\n",
    "    * Abstract\n",
    "    * Introduction\n",
    "    * Architecture\n",
    "    * Demonstration\n",
    "    * Conclusion\n",
    "\n",
    "**Submission**\n",
    "\n",
    "* <u>Initial Plan</u>: Download the Initial Plan [form template](https://docs.google.com/document/d/1r6UVr37hPxrUCTJCs_719Kze1-HjGn3KTBfih46lfjc/edit?usp=sharing), and submit the filled form to the CourSys activity Initial Plan. \n",
    "* <u>Poster Session</u>*: You are not only required to make a poster, but also <font color=\"red\">demonstrate the system </font> during the poster session. The poster session is scheduled at 10:00 am on Wednesday 12/07. Please upload your poster to the CourSys activity Poster before 08:00 am. \n",
    "* <u>Paper</u>:  Write the paper using the templates provided at https://www.acm.org/publications/proceedings-template for Word and LaTeX (version 2e). That is, the format of your paper should be like [this](https://www.acm.org/binaries/content/assets/publications/article-templates/sig-alternate-sample.pdf). The paper has to be <font color=\"red\"> at least 2 pages (excluding references)</font>. "
   ]
  },
  {
   "cell_type": "markdown",
   "metadata": {},
   "source": [
    "## Final Note"
   ]
  },
  {
   "cell_type": "markdown",
   "metadata": {},
   "source": [
    "As per [SFU Policy R20.01](http://www.sfu.ca/policies/gazette/research/r20-01.html), if a project meets one of the following requirements, it is required to submit an [ethics application](http://www.sfu.ca/ore/faqs/EthicsApplicationProcess.html). \n",
    "\n",
    "```\"You will need to submit an ethics application if you are conducting a Research Study which involves the collection of data from human participants, including human tissues, fluids, cells or archaeological remains, or if you are accesing secondary human participant data/human biological materials. Secondary use refers to the use in research of information or human biological materials originally collected for a purpose other than the current research purpose. This data/biological material is not available to the general public or considered to be in the public domain and was not collected anonymously. Anonymous information and human biological materials are distinct from those that have been coded, and also from those that have been anonymized. Please review SFU Policy R20.01 for more information. If you are still unsure whether your study require research ethics review, please contact the Associate Director or Director, ORE.\" ``` "
   ]
  },
  {
   "cell_type": "markdown",
   "metadata": {},
   "source": [
    "This application process often takes several weeks or even a month, which may delay your final project. My suggestion is that if your project does require to collect data from the crowd, you can write a crowd simulator, which sends HTTP requests to our own [crowdsourcing platform](http://ec2-54-200-84-187.us-west-2.compute.amazonaws.com:5000/), to simulate the behavior of crowd workers. "
   ]
  }
 ],
 "metadata": {
  "kernelspec": {
   "display_name": "Python 2",
   "language": "python",
   "name": "python2"
  },
  "language_info": {
   "codemirror_mode": {
    "name": "ipython",
    "version": 2
   },
   "file_extension": ".py",
   "mimetype": "text/x-python",
   "name": "python",
   "nbconvert_exporter": "python",
   "pygments_lexer": "ipython2",
   "version": "2.7.11"
  }
 },
 "nbformat": 4,
 "nbformat_minor": 0
}
