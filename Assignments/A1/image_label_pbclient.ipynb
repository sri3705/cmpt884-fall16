{
 "cells": [
  {
   "cell_type": "markdown",
   "metadata": {},
   "source": [
    "## Finding Bears at SFU ([pbclient](https://github.com/PyBossa/pybossa-client) version)"
   ]
  },
  {
   "cell_type": "markdown",
   "metadata": {},
   "source": [
    "#### Step 1: Initialization"
   ]
  },
  {
   "cell_type": "code",
   "execution_count": null,
   "metadata": {
    "collapsed": false,
    "scrolled": true
   },
   "outputs": [],
   "source": [
    "import pbclient\n",
    "from string import Template\n",
    "\n",
    "pbclient.set('endpoint', 'http://ec2-54-200-84-187.us-west-2.compute.amazonaws.com:5000')\n",
    "# You can find your api key by clicking on your name, and then in the My Settings option.\n",
    "pbclient.set('api_key', 'Replace with your own API key') \n",
    "\n",
    "\n",
    "# !! The name and short_name of the project must be unique! \n",
    "# Otherwise you will get an error (IntegrityError) when creating the project.\n",
    "name = \"Finding Bears at SFU (pbclient)\"\n",
    "short_name = \"imglabel-pbclient\"\n",
    "description = \"image labeling\"\n",
    "pbclient.create_project(name, short_name, description)\n",
    "\n",
    "project = pbclient.find_project(short_name=short_name)[0]\n",
    "template = open('presenter.html').read()\n",
    "project.info['task_presenter'] = Template(template).safe_substitute( \\\n",
    "                                    short_name = short_name, question = \"Do you see a bear in the photo?\")\n",
    "project = pbclient.update_project(project)\n",
    "\n",
    "print project"
   ]
  },
  {
   "cell_type": "markdown",
   "metadata": {},
   "source": [
    "#### Step 2: Publishing Tasks"
   ]
  },
  {
   "cell_type": "code",
   "execution_count": null,
   "metadata": {
    "collapsed": false
   },
   "outputs": [],
   "source": [
    "pics = ['https://github.com/sfu-db/cmpt884-fall16/raw/master/Assignments/A1/3.jpg',\n",
    "        'https://github.com/sfu-db/cmpt884-fall16/raw/master/Assignments/A1/4.jpg',\n",
    "        'https://github.com/sfu-db/cmpt884-fall16/raw/master/Assignments/A1/5.jpg']\n",
    "\n",
    "tid_to_answers = {}\n",
    "tid_to_pics = {}\n",
    "for pic in pics:\n",
    "    task = pbclient.create_task(project.id, {'url_b': pic})\n",
    "    tid_to_answers[task.id] = None\n",
    "    tid_to_pics[task.id] = pic\n",
    "\n",
    "print \"Publishing %d tasks\" %(len(tid_to_answers))"
   ]
  },
  {
   "cell_type": "markdown",
   "metadata": {},
   "source": [
    "#### Step 3: Collecting Results"
   ]
  },
  {
   "cell_type": "code",
   "execution_count": null,
   "metadata": {
    "collapsed": false
   },
   "outputs": [],
   "source": [
    "import time\n",
    "\n",
    "# Checking whether the tasks has been finished every 3 secs\n",
    "while None in tid_to_answers.values():\n",
    "    results = pbclient.get_taskruns(project.id, limit = 100, last_id = 0)\n",
    "    for result in results:\n",
    "        task_id = result.data['task_id']\n",
    "        answer = result.data['info']\n",
    "        if task_id in tid_to_answers.keys():\n",
    "            tid_to_answers[task_id] = answer\n",
    "    time.sleep(3)\n",
    "    \n",
    "for tid, pic in tid_to_pics.items():\n",
    "    print pic, tid_to_answers[tid]"
   ]
  }
 ],
 "metadata": {
  "kernelspec": {
   "display_name": "Python 2",
   "language": "python",
   "name": "python2"
  },
  "language_info": {
   "codemirror_mode": {
    "name": "ipython",
    "version": 2
   },
   "file_extension": ".py",
   "mimetype": "text/x-python",
   "name": "python",
   "nbconvert_exporter": "python",
   "pygments_lexer": "ipython2",
   "version": "2.7.11"
  }
 },
 "nbformat": 4,
 "nbformat_minor": 0
}
