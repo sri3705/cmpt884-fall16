{
 "cells": [
  {
   "cell_type": "markdown",
   "metadata": {},
   "source": [
    "## Finding Bears at SFU ([reprowd](http://sfu-db.github.io/reprowd/) version)"
   ]
  },
  {
   "cell_type": "markdown",
   "metadata": {},
   "source": [
    "#### Step 1: Initialization"
   ]
  },
  {
   "cell_type": "code",
   "execution_count": null,
   "metadata": {
    "collapsed": false
   },
   "outputs": [],
   "source": [
    "from reprowd.crowdcontext import CrowdContext\n",
    "from reprowd.presenter.image import ImageLabel\n",
    "\n",
    "cc = CrowdContext(\"reprowd.db\")\n",
    "\n",
    "# !! The name and short_name must be unique! \n",
    "# Otherwise you will get an error (IntegrityError) when creating the project.\n",
    "presenter = ImageLabel().set_name(\"Finding Bears at SFU (reprowd)\") \\\n",
    "                .set_short_name(\"imglabel-reprowd\") \\\n",
    "                .set_question(\"Do you see a bear in the photo?\") \n",
    "print presenter"
   ]
  },
  {
   "cell_type": "markdown",
   "metadata": {},
   "source": [
    "#### Step 2: Publishing Tasks"
   ]
  },
  {
   "cell_type": "code",
   "execution_count": null,
   "metadata": {
    "collapsed": false
   },
   "outputs": [],
   "source": [
    "pics = ['https://github.com/sfu-db/cmpt884-fall16/raw/master/Assignments/A1/3.jpg',\n",
    "        'https://github.com/sfu-db/cmpt884-fall16/raw/master/Assignments/A1/4.jpg',\n",
    "        'https://github.com/sfu-db/cmpt884-fall16/raw/master/Assignments/A1/5.jpg']\n",
    "\n",
    "\n",
    "crowddata = cc.CrowdData(pics, \"sfu-bear\") \\\n",
    "                .set_presenter(presenter, lambda obj: {'url_b':obj}) \\\n",
    "                .publish_task(n_assignments=1)\n",
    "print \"publishing %d tasks\" %(len(pics))"
   ]
  },
  {
   "cell_type": "markdown",
   "metadata": {},
   "source": [
    "#### Step 3: Collecting Results"
   ]
  },
  {
   "cell_type": "code",
   "execution_count": null,
   "metadata": {
    "collapsed": false,
    "scrolled": false
   },
   "outputs": [],
   "source": [
    "crowddata = crowddata.get_result().quality_control('mv')\n",
    "\n",
    "for task, result in zip(crowddata.data['task'], crowddata.data['mv']):\n",
    "    print task['task_data']['url_b'], result"
   ]
  }
 ],
 "metadata": {
  "kernelspec": {
   "display_name": "Python 2",
   "language": "python",
   "name": "python2"
  },
  "language_info": {
   "codemirror_mode": {
    "name": "ipython",
    "version": 2
   },
   "file_extension": ".py",
   "mimetype": "text/x-python",
   "name": "python",
   "nbconvert_exporter": "python",
   "pygments_lexer": "ipython2",
   "version": "2.7.11"
  }
 },
 "nbformat": 4,
 "nbformat_minor": 0
}
